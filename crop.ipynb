{
 "cells": [
  {
   "cell_type": "code",
   "execution_count": 10,
   "metadata": {},
   "outputs": [
    {
     "name": "stdout",
     "output_type": "stream",
     "text": [
      "[1848, 1848, 2019, 2019]\n",
      "[199, 275, 199, 275]\n"
     ]
    }
   ],
   "source": [
    "import json\n",
    "from PIL import Image\n",
    "\n",
    "with open('../json/paper/IMG_OCR_53_4PO_09451.json','r',encoding='utf-8') as f:\n",
    "    file = json.load(f)\n",
    "print(file['bbox'][0]['x'])\n",
    "print(file['bbox'][0]['y'])\n",
    "bbox = file['bbox']"
   ]
  },
  {
   "cell_type": "code",
   "execution_count": 23,
   "metadata": {},
   "outputs": [],
   "source": [
    "img = Image.open('../image/paper/IMG_OCR_53_4PO_09451.png')\n",
    "\n",
    "for index, box in enumerate(bbox):\n",
    "    left = file['bbox'][index]['x'][0]\n",
    "    top = file['bbox'][index]['y'][0]\n",
    "    right = file['bbox'][index]['x'][2]\n",
    "    bottom = file['bbox'][index]['y'][1]\n",
    "    coor = (left, top, right, bottom)\n",
    "    \n",
    "    crop_img = img.crop(coor)\n",
    "    crop_img.save('../image/crop/{}.png'.format(index))\n"
   ]
  }
 ],
 "metadata": {
  "kernelspec": {
   "display_name": "Python 3.9.5 64-bit",
   "language": "python",
   "name": "python3"
  },
  "language_info": {
   "codemirror_mode": {
    "name": "ipython",
    "version": 3
   },
   "file_extension": ".py",
   "mimetype": "text/x-python",
   "name": "python",
   "nbconvert_exporter": "python",
   "pygments_lexer": "ipython3",
   "version": "3.9.5"
  },
  "orig_nbformat": 4,
  "vscode": {
   "interpreter": {
    "hash": "66d10cac04648a55565af852e0037a18062146ef3971972e375ca0f61f99b17e"
   }
  }
 },
 "nbformat": 4,
 "nbformat_minor": 2
}
