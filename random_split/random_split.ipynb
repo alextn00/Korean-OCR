{
 "cells": [
  {
   "cell_type": "code",
   "execution_count": 1,
   "metadata": {},
   "outputs": [],
   "source": [
    "import json, random\n",
    "import os\n",
    "import numpy as np\n",
    "from PIL import Image\n",
    "import matplotlib.pylab as plt\n",
    "import sys\n",
    "from keras.utils import to_categorical\n",
    "from keras import models, layers\n",
    "from keras import optimizers\n",
    "import tensorflow as tf\n",
    "import shutil"
   ]
  },
  {
   "cell_type": "code",
   "execution_count": 2,
   "metadata": {},
   "outputs": [],
   "source": [
    "image_path = \"../process_data/\"\n",
    "image_files = os.listdir(image_path)\n",
    "\n",
    "\n",
    "for i in range(50000):\n",
    "    random_image = random.choice(image_files)\n",
    "    img = Image.open('../process_data/' + random_image)\n",
    "    random_image = random_image.split('.')[0]        # IMG_OCR_53_4PR_12042_2\n",
    "    json_path = random_image.split('_')[:5]\n",
    "    json_path = '_'.join(json_path)                  # IMG_OCR_53_4PR_12042\n",
    "    #random_image_id = random_image.split('_')[5:]\n",
    "    #id = int(random_image_id[0])                    # 2\n",
    "    \n",
    "    json_file = '../json/TL/' + json_path + '.json'\n",
    "    random_json_file = '../dataset/train/json/' + json_path + '.json'\n",
    "    shutil.copy(json_file, random_json_file)\n",
    "    \n",
    "    img.save('../dataset/train/image/' + random_image + '.png')"
   ]
  }
 ],
 "metadata": {
  "kernelspec": {
   "display_name": "Python 3 (ipykernel)",
   "language": "python",
   "name": "python3"
  },
  "language_info": {
   "codemirror_mode": {
    "name": "ipython",
    "version": 3
   },
   "file_extension": ".py",
   "mimetype": "text/x-python",
   "name": "python",
   "nbconvert_exporter": "python",
   "pygments_lexer": "ipython3",
   "version": "3.9.5"
  },
  "vscode": {
   "interpreter": {
    "hash": "66d10cac04648a55565af852e0037a18062146ef3971972e375ca0f61f99b17e"
   }
  }
 },
 "nbformat": 4,
 "nbformat_minor": 2
}
